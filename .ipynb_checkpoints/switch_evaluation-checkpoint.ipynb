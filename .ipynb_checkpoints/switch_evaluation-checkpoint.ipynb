{
 "cells": [
  {
   "cell_type": "code",
   "execution_count": 1,
   "metadata": {
    "collapsed": true
   },
   "outputs": [],
   "source": [
    "import itertools\n",
    "import pandas as pd\n",
    "import os\n",
    "import networkx as nx\n",
    "\n",
    "import pandapower as pp\n",
    "import pandapower.shortcircuit as sc\n",
    "import pandapower.topology as top"
   ]
  },
  {
   "cell_type": "code",
   "execution_count": 2,
   "metadata": {
    "collapsed": true
   },
   "outputs": [],
   "source": [
    "net = pp.from_excel(os.path.join(\"data\", \"case_study_grid.xlsx\"))"
   ]
  },
  {
   "cell_type": "code",
   "execution_count": 3,
   "metadata": {
    "collapsed": true
   },
   "outputs": [],
   "source": [
    "def is_supplied(net):\n",
    "    return len(top.unsupplied_buses(net)) == 0"
   ]
  },
  {
   "cell_type": "code",
   "execution_count": 4,
   "metadata": {
    "collapsed": false
   },
   "outputs": [
    {
     "data": {
      "text/plain": [
       "True"
      ]
     },
     "execution_count": 4,
     "metadata": {},
     "output_type": "execute_result"
    }
   ],
   "source": [
    "is_supplied(net)"
   ]
  },
  {
   "cell_type": "code",
   "execution_count": 5,
   "metadata": {
    "collapsed": true
   },
   "outputs": [],
   "source": [
    "def is_radial(net):\n",
    "    mg = top.create_nxgraph(net, multi=False)\n",
    "    mg.add_edge(0, 1, key={\"type\": \"sl\"})\n",
    "    for cycle in nx.cycle_basis(mg):\n",
    "        if any([mg[b1][b2][\"type\"] == \"l\" for b1, b2 in zip(cycle, cycle[1:])]):\n",
    "            return False\n",
    "    return True"
   ]
  },
  {
   "cell_type": "code",
   "execution_count": 6,
   "metadata": {
    "collapsed": false
   },
   "outputs": [
    {
     "data": {
      "text/plain": [
       "True"
      ]
     },
     "execution_count": 6,
     "metadata": {},
     "output_type": "execute_result"
    }
   ],
   "source": [
    "is_radial(net)"
   ]
  },
  {
   "cell_type": "code",
   "execution_count": 7,
   "metadata": {
    "collapsed": true
   },
   "outputs": [],
   "source": [
    "def sc_feasible(net):\n",
    "    sc.calc_sc(net, case=\"min\", fault=\"2ph\")\n",
    "    return net.res_bus_sc.ikss_ka.min() > 1.1, net.res_bus_sc.ikss_ka.min()"
   ]
  },
  {
   "cell_type": "code",
   "execution_count": 8,
   "metadata": {
    "collapsed": false
   },
   "outputs": [
    {
     "data": {
      "text/plain": [
       "(True, 1.2132331877930074)"
      ]
     },
     "execution_count": 8,
     "metadata": {},
     "output_type": "execute_result"
    }
   ],
   "source": [
    "sc_feasible(net)"
   ]
  },
  {
   "cell_type": "code",
   "execution_count": 9,
   "metadata": {
    "collapsed": true
   },
   "outputs": [],
   "source": [
    "def analyze_switch_positions(net):\n",
    "    switch_positions = {}\n",
    "    for i, (s1, s2) in enumerate(itertools.combinations(net.switch.index, 2)):\n",
    "        net.switch.closed.loc[[s1, s2]] = False\n",
    "        supplied = is_supplied(net)\n",
    "        radial = is_radial(net)\n",
    "        sc_valid, sc_ka  = sc_feasible(net) if (supplied and radial) else (None, None)\n",
    "        valid = supplied and radial and sc_valid\n",
    "        switch_positions[i] = {\"supplied\": supplied, \"radial\": radial, \"sc_valid\": sc_valid,\n",
    "                               \"valid\": valid, \"min_sc\": sc_ka, \"switches\": [s1, s2]}\n",
    "        net.switch.closed = True\n",
    "    return pd.DataFrame.from_dict(switch_positions).T"
   ]
  },
  {
   "cell_type": "code",
   "execution_count": 10,
   "metadata": {
    "collapsed": false
   },
   "outputs": [],
   "source": [
    "sw = analyze_switch_positions(net)"
   ]
  },
  {
   "cell_type": "code",
   "execution_count": 11,
   "metadata": {
    "collapsed": false
   },
   "outputs": [
    {
     "data": {
      "text/html": [
       "<div>\n",
       "<table border=\"1\" class=\"dataframe\">\n",
       "  <thead>\n",
       "    <tr style=\"text-align: right;\">\n",
       "      <th></th>\n",
       "      <th>min_sc</th>\n",
       "      <th>radial</th>\n",
       "      <th>sc_valid</th>\n",
       "      <th>supplied</th>\n",
       "      <th>switches</th>\n",
       "      <th>valid</th>\n",
       "    </tr>\n",
       "  </thead>\n",
       "  <tbody>\n",
       "    <tr>\n",
       "      <th>0</th>\n",
       "      <td>None</td>\n",
       "      <td>True</td>\n",
       "      <td>None</td>\n",
       "      <td>False</td>\n",
       "      <td>[0, 1]</td>\n",
       "      <td>False</td>\n",
       "    </tr>\n",
       "    <tr>\n",
       "      <th>1</th>\n",
       "      <td>None</td>\n",
       "      <td>False</td>\n",
       "      <td>None</td>\n",
       "      <td>False</td>\n",
       "      <td>[0, 2]</td>\n",
       "      <td>False</td>\n",
       "    </tr>\n",
       "    <tr>\n",
       "      <th>2</th>\n",
       "      <td>None</td>\n",
       "      <td>False</td>\n",
       "      <td>None</td>\n",
       "      <td>False</td>\n",
       "      <td>[0, 3]</td>\n",
       "      <td>False</td>\n",
       "    </tr>\n",
       "    <tr>\n",
       "      <th>3</th>\n",
       "      <td>None</td>\n",
       "      <td>False</td>\n",
       "      <td>None</td>\n",
       "      <td>False</td>\n",
       "      <td>[0, 4]</td>\n",
       "      <td>False</td>\n",
       "    </tr>\n",
       "    <tr>\n",
       "      <th>4</th>\n",
       "      <td>None</td>\n",
       "      <td>False</td>\n",
       "      <td>None</td>\n",
       "      <td>False</td>\n",
       "      <td>[0, 5]</td>\n",
       "      <td>False</td>\n",
       "    </tr>\n",
       "  </tbody>\n",
       "</table>\n",
       "</div>"
      ],
      "text/plain": [
       "  min_sc radial sc_valid supplied switches  valid\n",
       "0   None   True     None    False   [0, 1]  False\n",
       "1   None  False     None    False   [0, 2]  False\n",
       "2   None  False     None    False   [0, 3]  False\n",
       "3   None  False     None    False   [0, 4]  False\n",
       "4   None  False     None    False   [0, 5]  False"
      ]
     },
     "execution_count": 11,
     "metadata": {},
     "output_type": "execute_result"
    }
   ],
   "source": [
    "sw.head()"
   ]
  },
  {
   "cell_type": "code",
   "execution_count": 12,
   "metadata": {
    "collapsed": false
   },
   "outputs": [
    {
     "name": "stdout",
     "output_type": "stream",
     "text": [
      "number of switching states: 276\n",
      "number of switching state with meshings: 95\n",
      "number of switching state with unsupplied stations: 85\n",
      "number of switching states with topology problem: 96\n",
      "number of switching state violating short circuit: 100\n",
      "Overall valid switching states: 80\n"
     ]
    }
   ],
   "source": [
    "print(\"number of switching states: %u\" % len(sw.index))\n",
    "print(\"number of switching state with meshings: %u\" % len(sw[sw.radial == False]))\n",
    "print(\"number of switching state with unsupplied stations: %u\" % len(sw[sw.supplied == False]))\n",
    "print(\"number of switching states with topology problem: %u\"%len(sw[(sw.supplied==False)|(sw.radial==False)]))\n",
    "print(\"number of switching state violating short circuit: %u\" % len(sw[sw.sc_valid == False]))\n",
    "print(\"Overall valid switching states: %u\"  %  (len(sw[sw.valid])))"
   ]
  }
 ],
 "metadata": {
  "anaconda-cloud": {},
  "kernelspec": {
   "display_name": "Python [conda env:py34]",
   "language": "python",
   "name": "conda-env-py34-py"
  },
  "language_info": {
   "codemirror_mode": {
    "name": "ipython",
    "version": 3
   },
   "file_extension": ".py",
   "mimetype": "text/x-python",
   "name": "python",
   "nbconvert_exporter": "python",
   "pygments_lexer": "ipython3",
   "version": "3.4.5"
  }
 },
 "nbformat": 4,
 "nbformat_minor": 2
}
