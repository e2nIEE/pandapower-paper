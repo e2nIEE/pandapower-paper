{
 "cells": [
  {
   "cell_type": "markdown",
   "metadata": {},
   "source": [
    "# Creating an example network "
   ]
  },
  {
   "cell_type": "markdown",
   "metadata": {},
   "source": [
    "This jupyter notebook shows the creation of the example network for the case study. We create a grid with 2 external grids, two transformers (1 two-winding transformer and 1 three winding transformer)."
   ]
  },
  {
   "cell_type": "code",
   "execution_count": 1,
   "metadata": {
    "collapsed": true
   },
   "outputs": [],
   "source": [
    "import pandapower as pp\n",
    "import pandapower.plotting as plot\n",
    "from numpy import pi\n",
    "import os\n",
    "import matplotlib.pyplot as plt"
   ]
  },
  {
   "cell_type": "markdown",
   "metadata": {},
   "source": [
    "To make the creation of all the buses and lines simpler, we wrap the process of creating a bus und a line into one function."
   ]
  },
  {
   "cell_type": "code",
   "execution_count": 2,
   "metadata": {
    "collapsed": true
   },
   "outputs": [],
   "source": [
    "def create_bus_with_line(net, last_bus, length_km, std_type):\n",
    "    new_bus = pp.create_bus(net, vn_kv=10.)\n",
    "    lidx = pp.create_line(net, last_bus, new_bus, std_type=std_type, length_km=length_km)\n",
    "    pp.create_switch(net, bus=last_bus, element=lidx, et=\"l\")\n",
    "    pp.create_switch(net, bus=new_bus, element=lidx, et=\"l\")\n",
    "    return new_bus"
   ]
  },
  {
   "cell_type": "code",
   "execution_count": 3,
   "metadata": {
    "collapsed": true
   },
   "outputs": [],
   "source": [
    "def create_example_net():\n",
    "    # An empty network object is created, that will be filled in the next steps.\n",
    "    net = pp.create_empty_network()\n",
    "\n",
    "    #create slack nodes\n",
    "    hvb = pp.create_buses(net, 2, vn_kv=110.)\n",
    "    pp.create_ext_grid(net, hvb[0], s_sc_min_mva=2500, rx_min=0.3)\n",
    "    pp.create_ext_grid(net, hvb[1], s_sc_min_mva=3000, rx_min=0.2)\n",
    "\n",
    "    #create a first bus\n",
    "    lb = pp.create_bus(net, vn_kv=10.)\n",
    "    # we start with the transformer at the first high voltage bus\n",
    "    pp.create_transformer(net, hvb[0], lb, std_type=\"40 MVA 110/10 kV\", df=0.1)\n",
    "    # define the standard types for this network\n",
    "    std_types = [\"70-AL1/11-ST1A 10.0\", \"NA2XS2Y 1x240 RM/25 6/10 kV\"]\n",
    "    # create several lines and busses below the first transformer\n",
    "    for length, std_type in zip([1.8, 2.4, 3.6, 4.8, 4.8, 1.2], [0, 1, 0, 1, 1, 1]):\n",
    "        lb = create_bus_with_line(net, lb, length_km=length, std_type=std_types[std_type])\n",
    "    lb = 5\n",
    "    # create several lines and busses below bus 5\n",
    "    for length, std_type in zip([1.2, 3., 4.8, 3.6, 1.2, 0.6], [1, 1, 1, 0, 1, 0]):\n",
    "        lb = create_bus_with_line(net, lb, length_km=length, std_type=std_types[std_type])\n",
    "    # we create another the transformer (this time a 3w transformer) at the other high voltage bus\n",
    "    # and connect it to bus 8\n",
    "    pp.create_transformer3w(net, hvb[1], 8, lb, \"63/25/38 MVA 110/10/10 kV\")\n",
    "    net.line.loc[net.line.index[net.line.type == \"ol\"], \"endtemp_degree\"] = 100 #overhead lines\n",
    "    net.line.loc[net.line.index[net.line.type == \"cs\"], \"endtemp_degree\"] = 20 #cables\n",
    "\n",
    "    #add constraints\n",
    "    net.line[\"max_loading_percent\"] = 50\n",
    "    net.trafo[\"max_loading_percent\"] = 50\n",
    "    net.bus[\"max_vm_pu\"] = 1.03\n",
    "    net.bus[\"min_vm_pu\"] = 0.97\n",
    "\n",
    "    #create load and generation elements\n",
    "    for bus in [3, 6, 10, 13]:\n",
    "        pp.create_sgen(net, bus, p_kw=-1280, sn_kva=1280, k=1.2)\n",
    "    for bus in [3, 4, 5, 6, 7, 9, 10, 11, 12, 13]:\n",
    "        pp.create_load(net, bus, p_kw=3.5e3)\n",
    "\n",
    "    # create a valid original switching state\n",
    "    net.switch.closed.loc[[6, 14]] = False\n",
    "    \n",
    "    return net"
   ]
  },
  {
   "cell_type": "markdown",
   "metadata": {},
   "source": [
    "Here we execute the function defined above."
   ]
  },
  {
   "cell_type": "code",
   "execution_count": 4,
   "metadata": {
    "collapsed": true
   },
   "outputs": [],
   "source": [
    "net = create_example_net()"
   ]
  },
  {
   "cell_type": "markdown",
   "metadata": {},
   "source": [
    "Printing the representation of the pandapower network shows us which and how much elements the networks contains."
   ]
  },
  {
   "cell_type": "code",
   "execution_count": 5,
   "metadata": {
    "collapsed": false
   },
   "outputs": [
    {
     "data": {
      "text/plain": [
       "This pandapower network includes the following parameter tables:\n",
       "   - switch (24 elements)\n",
       "   - sgen (4 elements)\n",
       "   - trafo (1 element)\n",
       "   - load (10 elements)\n",
       "   - bus (15 elements)\n",
       "   - trafo3w (1 element)\n",
       "   - line (12 elements)\n",
       "   - ext_grid (2 elements)"
      ]
     },
     "execution_count": 5,
     "metadata": {},
     "output_type": "execute_result"
    }
   ],
   "source": [
    "net"
   ]
  },
  {
   "cell_type": "markdown",
   "metadata": {},
   "source": [
    "In the following, generic geocoordinates are created for the buses, so that it can be plotted. This is done through an interface to the ipython library. In order to use this feature, two additional python packages need to be installed:\n",
    "\n",
    "- pycairo\n",
    "- python-igraph (not igraph!)\n",
    "\n",
    "Alternatively, the grid with created coordinates is included in the data folder and can be loaded from the hard drive. The grid was saved with the pp.to_excel function and can be loaded again by setting the from_disk variable to True:"
   ]
  },
  {
   "cell_type": "code",
   "execution_count": 6,
   "metadata": {
    "collapsed": true
   },
   "outputs": [],
   "source": [
    "from_disk = False\n",
    "if from_disk:\n",
    "    net = pp.from_excel(os.path.join(\"data\", \"case_study_grid.xlsx\"))\n",
    "else:\n",
    "    plot.create_generic_coordinates(net)\n",
    "    net.bus_geodata.columns = list(net.bus_geodata.columns)[::-1]  # swap x and y axis ro rotate plot"
   ]
  },
  {
   "cell_type": "markdown",
   "metadata": {},
   "source": [
    "We define and execute the function plot_grid for a visual representation of the network: "
   ]
  },
  {
   "cell_type": "code",
   "execution_count": 7,
   "metadata": {
    "collapsed": true
   },
   "outputs": [],
   "source": [
    "def plot_grid(net):\n",
    "    tie_lines = set(net.switch.element[~net.switch.closed.values].values)\n",
    "    lines = set(net.line.index) - tie_lines\n",
    "\n",
    "    #plot buses\n",
    "    bc = plot.create_bus_collection(net, size=.04, zorder=10, color=\"b\")\n",
    "\n",
    "    #plot lines and switches\n",
    "    lc = plot.create_line_collection(net, lines, linewidths=3., use_bus_geodata=True, color=\"k\")\n",
    "    olr = plot.create_line_collection(net, lines=tie_lines, color='k', linewidths=2.0,\n",
    "                                      use_bus_geodata=True, linestyles=\"dashed\")\n",
    "    sc = plot.create_line_switch_collection(net, size=0.1, distance_to_bus=.12, use_line_geodata=True,\n",
    "                                            zorder=12, color=\"k\")\n",
    "\n",
    "    #plot transformers\n",
    "    t31, t32 = plot.create_trafo3w_collection(net, linewidths=2.)\n",
    "    t21, t22 = plot.create_trafo_collection(net, linewidths=2.)\n",
    "\n",
    "    #plot load and generation elements\n",
    "    orient = [pi/2 if i==6 else pi for i in range(len(net.load))]\n",
    "    lc1, lc2 = plot.create_load_collection(net, size=0.1, orientation=orient, linewidths=2.)\n",
    "    sc1, sc2 = plot.create_sgen_collection(net, size=0.12, orientation=2*pi, linewidths=1.)\n",
    "    sl1, sl2 = plot.create_ext_grid_collection(net, size=0.4, orientation=3*pi/2, linewidths=2.)\n",
    "    plot.draw_collections([bc, lc, olr, lc1, lc2, sc1, sc2, sc, t21, t22, t31, t32, sl1, sl2], figsize=(9,4))\n",
    "    plt.show()"
   ]
  },
  {
   "cell_type": "code",
   "execution_count": 8,
   "metadata": {
    "collapsed": false
   },
   "outputs": [
    {
     "data": {
      "image/png": "[encoded data removed]",
      "text/plain": [
       "<matplotlib.figure.Figure at 0x170c82dbf60>"
      ]
     },
     "metadata": {},
     "output_type": "display_data"
    }
   ],
   "source": [
    "plot_grid(net)"
   ]
  }
 ],
 "metadata": {
  "anaconda-cloud": {},
  "kernelspec": {
   "display_name": "Python [default]",
   "language": "python",
   "name": "python3"
  },
  "language_info": {
   "codemirror_mode": {
    "name": "ipython",
    "version": 3
   },
   "file_extension": ".py",
   "mimetype": "text/x-python",
   "name": "python",
   "nbconvert_exporter": "python",
   "pygments_lexer": "ipython3",
   "version": "3.5.2"
  }
 },
 "nbformat": 4,
 "nbformat_minor": 2
}
